{
 "cells": [
  {
   "cell_type": "markdown",
   "id": "0b02f34c",
   "metadata": {},
   "source": [
    "# Google Drive Loader\n",
    "This notebook covers how to retrieve documents from Google Drive.\n",
    "\n",
    "## Prerequisites\n",
    "\n",
    "1. Create a Google Cloud project or use an existing project\n",
    "1. Enable the [Google Drive API](https://console.cloud.google.com/flows/enableapi?apiid=drive.googleapis.com)\n",
    "1. [Authorize credentials for desktop app](https://developers.google.com/drive/api/quickstart/python#authorize_credentials_for_a_desktop_application)\n",
    "1. `pip install --upgrade google-api-python-client google-auth-httplib2 google-auth-oauthlib`\n",
    "\n",
    "## Instructions for retrieving your Google Docs data\n",
    "By default, the `GoogleDriveLoader` expects the `credentials.json` file to be `~/.credentials/credentials.json`, but this is configurable using the `GOOGLE_ACCOUNT_FILE` environment variable. \n",
    "The location of `token.json` use the same directory (or use the parameter `token_path`). Note that `token.json` will be created automatically the first time you use the loader.\n"
   ]
  },
  {
   "cell_type": "markdown",
   "id": "a03b9067",
   "metadata": {},
   "source": [
    "You can obtain your folder and document id from the URL:\n",
    "* Folder: https://drive.google.com/drive/u/0/folders/1yucgL9WGgWZdM1TOuKkeghlPizuzMYb5 -> folder id is `\"1yucgL9WGgWZdM1TOuKkeghlPizuzMYb5\"`\n",
    "* Document: https://docs.google.com/document/d/1bfaMQ18_i56204VaQDVeAFpqEijJTgvurupdEDiaUQw/edit -> document id is `\"1bfaMQ18_i56204VaQDVeAFpqEijJTgvurupdEDiaUQw\"`\n",
    "\n",
    "The special value `root` is for your personal home."
   ]
  },
  {
   "cell_type": "code",
   "execution_count": 1,
   "id": "afc9c859-042e-4c2a-b31e-8c18eb00586a",
   "metadata": {},
   "outputs": [
    {
     "ename": "ModuleNotFoundError",
     "evalue": "No module named 'langchain_googledrive'",
     "output_type": "error",
     "traceback": [
      "\u001b[0;31m---------------------------------------------------------------------------\u001b[0m",
      "\u001b[0;31mModuleNotFoundError\u001b[0m                       Traceback (most recent call last)",
      "Cell \u001b[0;32mIn[1], line 2\u001b[0m\n\u001b[1;32m      1\u001b[0m \u001b[38;5;66;03m#pip install langchain-googledrive\u001b[39;00m\n\u001b[0;32m----> 2\u001b[0m \u001b[38;5;28;01mfrom\u001b[39;00m \u001b[38;5;21;01mlangchain_googledrive\u001b[39;00m\u001b[38;5;21;01m.\u001b[39;00m\u001b[38;5;21;01mdocument_loaders\u001b[39;00m \u001b[38;5;28;01mimport\u001b[39;00m GoogleDriveLoader\n",
      "\u001b[0;31mModuleNotFoundError\u001b[0m: No module named 'langchain_googledrive'"
     ]
    }
   ],
   "source": [
    "#pip install langchain-googledrive\n",
    "from langchain_googledrive.document_loaders import GoogleDriveLoader"
   ]
  },
  {
   "cell_type": "code",
   "execution_count": 2,
   "id": "6e40071c-3a65-4e26-b497-3e2be0bd86b9",
   "metadata": {},
   "outputs": [
    {
     "name": "stdout",
     "output_type": "stream",
     "text": [
      "Defaulting to user installation because normal site-packages is not writeable\n",
      "Collecting google-api-python-client\n",
      "  Using cached google_api_python_client-2.97.0-py2.py3-none-any.whl (12.0 MB)\n",
      "Collecting google-auth-httplib2\n",
      "  Using cached google_auth_httplib2-0.1.0-py2.py3-none-any.whl (9.3 kB)\n",
      "Collecting google-auth-oauthlib\n",
      "  Using cached google_auth_oauthlib-1.0.0-py2.py3-none-any.whl (18 kB)\n",
      "Collecting uritemplate<5,>=3.0.1\n",
      "  Using cached uritemplate-4.1.1-py2.py3-none-any.whl (10 kB)\n",
      "Requirement already satisfied: httplib2<1.dev0,>=0.15.0 in /usr/lib/python3/dist-packages (from google-api-python-client) (0.20.2)\n",
      "Collecting google-api-core!=2.0.*,!=2.1.*,!=2.2.*,!=2.3.0,<3.0.0.dev0,>=1.31.5\n",
      "  Using cached google_api_core-2.11.1-py3-none-any.whl (120 kB)\n",
      "Collecting google-auth<3.0.0.dev0,>=1.19.0\n",
      "  Using cached google_auth-2.22.0-py2.py3-none-any.whl (181 kB)\n",
      "Requirement already satisfied: six in /usr/lib/python3/dist-packages (from google-auth-httplib2) (1.16.0)\n",
      "Collecting requests-oauthlib>=0.7.0\n",
      "  Using cached requests_oauthlib-1.3.1-py2.py3-none-any.whl (23 kB)\n",
      "Collecting googleapis-common-protos<2.0.dev0,>=1.56.2\n",
      "  Using cached googleapis_common_protos-1.60.0-py2.py3-none-any.whl (227 kB)\n",
      "Requirement already satisfied: requests<3.0.0.dev0,>=2.18.0 in /home/pprados/.pythonapp/lib/python3.10/site-packages (from google-api-core!=2.0.*,!=2.1.*,!=2.2.*,!=2.3.0,<3.0.0.dev0,>=1.31.5->google-api-python-client) (2.31.0)\n",
      "Collecting protobuf!=3.20.0,!=3.20.1,!=4.21.0,!=4.21.1,!=4.21.2,!=4.21.3,!=4.21.4,!=4.21.5,<5.0.0.dev0,>=3.19.5\n",
      "  Downloading protobuf-4.24.2-cp37-abi3-manylinux2014_x86_64.whl (311 kB)\n",
      "\u001b[2K     \u001b[90m━━━━━━━━━━━━━━━━━━━━━━━━━━━━━━━━━━━━━━━\u001b[0m \u001b[32m311.4/311.4 KB\u001b[0m \u001b[31m4.9 MB/s\u001b[0m eta \u001b[36m0:00:00\u001b[0ma \u001b[36m0:00:01\u001b[0m\n",
      "\u001b[?25hRequirement already satisfied: urllib3<2.0 in /usr/lib/python3/dist-packages (from google-auth<3.0.0.dev0,>=1.19.0->google-api-python-client) (1.26.5)\n",
      "Collecting cachetools<6.0,>=2.0.0\n",
      "  Using cached cachetools-5.3.1-py3-none-any.whl (9.3 kB)\n",
      "Collecting pyasn1-modules>=0.2.1\n",
      "  Using cached pyasn1_modules-0.3.0-py2.py3-none-any.whl (181 kB)\n",
      "Collecting rsa<5,>=3.1.4\n",
      "  Using cached rsa-4.9-py3-none-any.whl (34 kB)\n",
      "Requirement already satisfied: pyparsing!=3.0.0,!=3.0.1,!=3.0.2,!=3.0.3,<4,>=2.4.2 in /usr/lib/python3/dist-packages (from httplib2<1.dev0,>=0.15.0->google-api-python-client) (2.4.7)\n",
      "Requirement already satisfied: oauthlib>=3.0.0 in /usr/lib/python3/dist-packages (from requests-oauthlib>=0.7.0->google-auth-oauthlib) (3.2.0)\n",
      "Collecting pyasn1<0.6.0,>=0.4.6\n",
      "  Using cached pyasn1-0.5.0-py2.py3-none-any.whl (83 kB)\n",
      "Requirement already satisfied: certifi>=2017.4.17 in /usr/lib/python3/dist-packages (from requests<3.0.0.dev0,>=2.18.0->google-api-core!=2.0.*,!=2.1.*,!=2.2.*,!=2.3.0,<3.0.0.dev0,>=1.31.5->google-api-python-client) (2020.6.20)\n",
      "Requirement already satisfied: idna<4,>=2.5 in /usr/lib/python3/dist-packages (from requests<3.0.0.dev0,>=2.18.0->google-api-core!=2.0.*,!=2.1.*,!=2.2.*,!=2.3.0,<3.0.0.dev0,>=1.31.5->google-api-python-client) (3.3)\n",
      "Requirement already satisfied: charset-normalizer<4,>=2 in /home/pprados/.pythonapp/lib/python3.10/site-packages (from requests<3.0.0.dev0,>=2.18.0->google-api-core!=2.0.*,!=2.1.*,!=2.2.*,!=2.3.0,<3.0.0.dev0,>=1.31.5->google-api-python-client) (3.2.0)\n",
      "Installing collected packages: uritemplate, pyasn1, protobuf, cachetools, rsa, requests-oauthlib, pyasn1-modules, googleapis-common-protos, google-auth, google-auth-oauthlib, google-auth-httplib2, google-api-core, google-api-python-client\n",
      "Successfully installed cachetools-5.3.1 google-api-core-2.11.1 google-api-python-client-2.97.0 google-auth-2.22.0 google-auth-httplib2-0.1.0 google-auth-oauthlib-1.0.0 googleapis-common-protos-1.60.0 protobuf-4.24.2 pyasn1-0.5.0 pyasn1-modules-0.3.0 requests-oauthlib-1.3.1 rsa-4.9 uritemplate-4.1.1\n"
     ]
    }
   ],
   "source": [
    "!pip install --upgrade google-api-python-client google-auth-httplib2 google-auth-oauthlib"
   ]
  },
  {
   "cell_type": "code",
   "execution_count": 3,
   "id": "9bcb6cb1",
   "metadata": {},
   "outputs": [],
   "source": [
    "folder_id='root'\n",
    "#folder_id='1yucgL9WGgWZdM1TOuKkeghlPizuzMYb5'"
   ]
  },
  {
   "cell_type": "code",
   "execution_count": 4,
   "id": "878928a6-a5ae-4f74-b351-64e3b01733fe",
   "metadata": {
    "tags": []
   },
   "outputs": [
    {
     "ename": "ModuleNotFoundError",
     "evalue": "No module named 'langchain_googledrive'",
     "output_type": "error",
     "traceback": [
      "\u001b[0;31m---------------------------------------------------------------------------\u001b[0m",
      "\u001b[0;31mModuleNotFoundError\u001b[0m                       Traceback (most recent call last)",
      "Cell \u001b[0;32mIn[4], line 1\u001b[0m\n\u001b[0;32m----> 1\u001b[0m \u001b[38;5;28;01mfrom\u001b[39;00m \u001b[38;5;21;01mlangchain_googledrive\u001b[39;00m\u001b[38;5;21;01m.\u001b[39;00m\u001b[38;5;21;01mdocument_loaders\u001b[39;00m \u001b[38;5;28;01mimport\u001b[39;00m GoogleDriveLoader\n",
      "\u001b[0;31mModuleNotFoundError\u001b[0m: No module named 'langchain_googledrive'"
     ]
    }
   ],
   "source": [
    "from langchain_googledrive.document_loaders import GoogleDriveLoader"
   ]
  },
  {
   "cell_type": "code",
   "execution_count": 5,
   "id": "2216c83f-68e4-4d2f-8ea2-5878fb18bbe7",
   "metadata": {
    "tags": []
   },
   "outputs": [
    {
     "ename": "NameError",
     "evalue": "name 'GoogleDriveLoader' is not defined",
     "output_type": "error",
     "traceback": [
      "\u001b[0;31m---------------------------------------------------------------------------\u001b[0m",
      "\u001b[0;31mNameError\u001b[0m                                 Traceback (most recent call last)",
      "Cell \u001b[0;32mIn[5], line 1\u001b[0m\n\u001b[0;32m----> 1\u001b[0m loader \u001b[38;5;241m=\u001b[39m \u001b[43mGoogleDriveLoader\u001b[49m(\n\u001b[1;32m      2\u001b[0m     folder_id\u001b[38;5;241m=\u001b[39mfolder_id,\n\u001b[1;32m      3\u001b[0m     recursive\u001b[38;5;241m=\u001b[39m\u001b[38;5;28;01mFalse\u001b[39;00m,\n\u001b[1;32m      4\u001b[0m     num_results\u001b[38;5;241m=\u001b[39m\u001b[38;5;241m2\u001b[39m,  \u001b[38;5;66;03m# Maximum number of file to load\u001b[39;00m\n\u001b[1;32m      5\u001b[0m )\n",
      "\u001b[0;31mNameError\u001b[0m: name 'GoogleDriveLoader' is not defined"
     ]
    }
   ],
   "source": [
    "loader = GoogleDriveLoader(\n",
    "    folder_id=folder_id,\n",
    "    recursive=False,\n",
    "    num_results=2,  # Maximum number of file to load\n",
    ")"
   ]
  },
  {
   "cell_type": "markdown",
   "id": "de5be5d4",
   "metadata": {},
   "source": [
    "By default, all files with these mime-type can be converted to `Document`.\n",
    "- text/text\n",
    "- text/plain\n",
    "- text/html\n",
    "- text/csv\n",
    "- text/markdown\n",
    "- image/png\n",
    "- image/jpeg\n",
    "- application/epub+zip\n",
    "- application/pdf\n",
    "- application/rtf\n",
    "- application/vnd.google-apps.document (GDoc)\n",
    "- application/vnd.google-apps.presentation (GSlide)\n",
    "- application/vnd.google-apps.spreadsheet (GSheet)\n",
    "- application/vnd.google.colaboratory (Notebook colab)\n",
    "- application/vnd.openxmlformats-officedocument.presentationml.presentation (PPTX)\n",
    "- application/vnd.openxmlformats-officedocument.wordprocessingml.document (DOCX)\n",
    "\n",
    "It's possible to update or customize this. See the documentation of `GDriveLoader`.\n",
    "\n",
    "But, the corresponding packages must be installed."
   ]
  },
  {
   "cell_type": "code",
   "execution_count": 5,
   "id": "1bca45c9",
   "metadata": {},
   "outputs": [
    {
     "name": "stdout",
     "output_type": "stream",
     "text": [
      "Defaulting to user installation because normal site-packages is not writeable\n",
      "Requirement already satisfied: unstructured in /home/pprados/.pythonapp/lib/python3.10/site-packages (0.9.1)\n",
      "Requirement already satisfied: python-magic in /home/pprados/.pythonapp/lib/python3.10/site-packages (from unstructured) (0.4.27)\n",
      "Requirement already satisfied: tabulate in /home/pprados/.pythonapp/lib/python3.10/site-packages (from unstructured) (0.9.0)\n",
      "Requirement already satisfied: requests in /usr/lib/python3/dist-packages (from unstructured) (2.25.1)\n",
      "Requirement already satisfied: filetype in /home/pprados/.pythonapp/lib/python3.10/site-packages (from unstructured) (1.2.0)\n",
      "Requirement already satisfied: nltk in /home/pprados/.pythonapp/lib/python3.10/site-packages (from unstructured) (3.8.1)\n",
      "Requirement already satisfied: lxml in /home/pprados/.pythonapp/lib/python3.10/site-packages (from unstructured) (4.9.3)\n",
      "Requirement already satisfied: chardet in /usr/lib/python3/dist-packages (from unstructured) (4.0.0)\n",
      "Requirement already satisfied: click in /usr/lib/python3/dist-packages (from nltk->unstructured) (8.0.3)\n",
      "Requirement already satisfied: joblib in /home/pprados/.pythonapp/lib/python3.10/site-packages (from nltk->unstructured) (1.3.1)\n",
      "Requirement already satisfied: tqdm in /home/pprados/.pythonapp/lib/python3.10/site-packages (from nltk->unstructured) (4.65.2)\n",
      "Requirement already satisfied: regex>=2021.8.3 in /home/pprados/.pythonapp/lib/python3.10/site-packages (from nltk->unstructured) (2023.8.8)\n"
     ]
    }
   ],
   "source": [
    "!pip install unstructured"
   ]
  },
  {
   "cell_type": "code",
   "execution_count": 6,
   "id": "8f3b6aa0-b45d-4e37-8c50-5bebe70fdb9d",
   "metadata": {
    "tags": []
   },
   "outputs": [
    {
     "name": "stdout",
     "output_type": "stream",
     "text": [
      "---\n",
      "[\n",
      "\n",
      "NOM\n",
      "\n",
      "PROJET + Référence Mission]\n",
      "\n",
      "\n",
      "\n",
      "Une fois la fiche ter...\n",
      "---\n",
      "[\n",
      "\n",
      "NOM\n",
      "\n",
      "PROJET + Référence Mission]\n",
      "\n",
      "\n",
      "\n",
      "Une fois la fiche ter...\n"
     ]
    }
   ],
   "source": [
    "for doc in loader.load():\n",
    "    print(\"---\")\n",
    "    print(doc.page_content.strip()[:60]+\"...\")"
   ]
  },
  {
   "cell_type": "markdown",
   "id": "31170e71",
   "metadata": {},
   "source": [
    "# Customize the search pattern\n",
    "\n",
    "All parameter compatible with Google [`list()`](https://developers.google.com/drive/api/v3/reference/files/list)\n",
    "API can be set.\n",
    "\n",
    "To specify the new pattern of the Google request, you can use a `PromptTemplate()`.\n",
    "The variables for the prompt can be set with `kwargs` in the constructor.\n",
    "Some pre-formated request are proposed (use `{query}`, `{folder_id}` and/or `{mime_type}`):\n",
    "\n",
    "You can customize the criteria to select the files. A set of predefined filter are proposed:\n",
    "| template                               | description                                                           |\n",
    "| -------------------------------------- | --------------------------------------------------------------------- |\n",
    "| gdrive-all-in-folder                   | Return all compatible files from a `folder_id`                        |\n",
    "| gdrive-query                           | Search `query` in all drives                                          |\n",
    "| gdrive-by-name                         | Search file with name `query`                                        |\n",
    "| gdrive-query-in-folder                 | Search `query` in `folder_id` (and sub-folders if `recursive=true`)  |\n",
    "| gdrive-mime-type                       | Search a specific `mime_type`                                         |\n",
    "| gdrive-mime-type-in-folder             | Search a specific `mime_type` in `folder_id`                          |\n",
    "| gdrive-query-with-mime-type            | Search `query` with a specific `mime_type`                            |\n",
    "| gdrive-query-with-mime-type-and-folder | Search `query` with a specific `mime_type` and in `folder_id`         |\n"
   ]
  },
  {
   "cell_type": "code",
   "execution_count": 7,
   "id": "0a47175f",
   "metadata": {},
   "outputs": [
    {
     "name": "stdout",
     "output_type": "stream",
     "text": [
      "---\n",
      "A Document with the word machine learning.\n",
      "\n",
      "\n",
      "\n",
      "Another paragr...\n",
      "---\n",
      "Autre document sur le machine learning...\n"
     ]
    }
   ],
   "source": [
    "loader = GoogleDriveLoader(\n",
    "    folder_id=folder_id,\n",
    "    recursive=False,\n",
    "    template=\"gdrive-query\",  # Default template to use\n",
    "    query=\"machine learning\",\n",
    "    num_results=2,            # Maximum number of file to load\n",
    "    supportsAllDrives=False,  # GDrive `list()` parameter\n",
    ")\n",
    "for doc in loader.load():\n",
    "    print(\"---\")\n",
    "    print(doc.page_content.strip()[:60]+\"...\")"
   ]
  },
  {
   "cell_type": "markdown",
   "id": "74e6e3aa",
   "metadata": {},
   "source": [
    "You can customize your pattern."
   ]
  },
  {
   "cell_type": "code",
   "execution_count": 8,
   "id": "dcf07ff7",
   "metadata": {},
   "outputs": [
    {
     "name": "stdout",
     "output_type": "stream",
     "text": [
      "---\n",
      "Je vous invite à lire\n",
      "\n",
      "cette page\n",
      "\n",
      "pour suivre les recommand...\n",
      "---\n",
      "The Springer Series on Challenges in Machine Learning\n",
      "\n",
      "Frank...\n"
     ]
    }
   ],
   "source": [
    "from langchain.prompts.prompt import PromptTemplate\n",
    "loader = GoogleDriveLoader(\n",
    "    folder_id=folder_id,\n",
    "    recursive=False,\n",
    "    template=PromptTemplate(\n",
    "        input_variables=[\"query\", \"query_name\"],\n",
    "        template=\"fullText contains '{query}' and name contains '{query_name}' and trashed=false\",\n",
    "        ),  # Default template to use\n",
    "    query=\"machine learning\",\n",
    "    query_name=\"ML\",    \n",
    "    num_results=2,  # Maximum number of file to load\n",
    ")\n",
    "for doc in loader.load():\n",
    "    print(\"---\")\n",
    "    print(doc.page_content.strip()[:60]+\"...\")"
   ]
  },
  {
   "cell_type": "markdown",
   "id": "8e404472",
   "metadata": {},
   "source": [
    "# Modes for GSlide and GSheet\n",
    "\n",
    "The parameter `mode` accept differents values:\n",
    "- `\"document\"`: return the body of each documents\n",
    "- `\"snippets\"`: return the `description` of each files (set in metadata of google drive files).\n",
    "\n",
    "\n",
    "The parameter `gslide_mode` accept differents values:\n",
    "- `\"single\"`   : one document with `<PAGE BREAK>`\n",
    "- `\"slide\"`    : one document by slide\n",
    "- `\"elements\"` : one document for each `elements`."
   ]
  },
  {
   "cell_type": "code",
   "execution_count": 9,
   "id": "b33d1a53",
   "metadata": {},
   "outputs": [
    {
     "name": "stdout",
     "output_type": "stream",
     "text": [
      "---\n",
      "Expériences  :\n",
      "\n",
      "UX Researcher et UX Analyst chez OCTO Techno...\n",
      "---\n",
      "Mini-bio : FEBO\n",
      "\n",
      "\n",
      "\n",
      "En tant que\n",
      "\n",
      "UX researcher\n",
      "\n",
      "et\n",
      "\n",
      "UX analyt...\n"
     ]
    }
   ],
   "source": [
    "loader = GoogleDriveLoader(\n",
    "    template=\"gdrive-mime-type\",\n",
    "    mime_type=\"application/vnd.google-apps.presentation\", # Only GSlide files\n",
    "    gslide_mode=\"slide\",\n",
    "    num_results=2,  # Maximum number of file to load\n",
    ")\n",
    "for doc in loader.load():\n",
    "    print(\"---\")\n",
    "    print(doc.page_content.strip()[:60]+\"...\")"
   ]
  },
  {
   "cell_type": "markdown",
   "id": "498f0451",
   "metadata": {},
   "source": [
    "The parameter `gsheet_mode` accept differents values:\n",
    "- `\"single\"`: Generate one document by line\n",
    "- `\"elements\"` : one document with markdown array and `<PAGE BREAK>` tags."
   ]
  },
  {
   "cell_type": "code",
   "execution_count": 10,
   "id": "884c4ca6",
   "metadata": {},
   "outputs": [
    {
     "name": "stdout",
     "output_type": "stream",
     "text": [
      "---\n",
      "Instructions for use: 1. Make a copy of this document; do no...\n",
      "---\n",
      "Instructions for use: 2. Check you're in the new copy and it...\n"
     ]
    }
   ],
   "source": [
    "loader = GoogleDriveLoader(\n",
    "    template=\"gdrive-mime-type\",\n",
    "    mime_type=\"application/vnd.google-apps.spreadsheet\", # Only GSheet files\n",
    "    gsheet_mode=\"elements\",\n",
    "    num_results=2,  # Maximum number of file to load\n",
    ")\n",
    "for doc in loader.load():\n",
    "    print(\"---\")\n",
    "    print(doc.page_content.strip()[:60]+\"...\")"
   ]
  },
  {
   "cell_type": "markdown",
   "id": "1f0f8982",
   "metadata": {},
   "source": [
    "# Advanced usage\n",
    "- All google file have a 'description' in the metadata. This field can be use to memorize a summary of the document or others indexed tags (See method `lazy_update_description_with_summary()`).\n",
    "- If you use the `mode=\"snippet\"`, only the description will be used for the body. Else, the `metadata['summary']` has the field.\n",
    "- Sometime, a specific filter can be used to extract some information from the filename, to select some files with specific criteria. You can use a `filter`.\n",
    "- Sometimes, many documents are returned. It's not necessary to have all documents in memory at the same time. You can use the *lazy* versions of methods, to get one document at a time.\n",
    "It's better to use a complex query in place of a recursive search. For each folder, a query must be apply if you activate `recursive=True`."
   ]
  },
  {
   "cell_type": "code",
   "execution_count": 13,
   "id": "23e07be2",
   "metadata": {},
   "outputs": [
    {
     "name": "stderr",
     "output_type": "stream",
     "text": [
      "Ignore 'Dossier - 01 - Introduction au Deep Learning.zip' with type 'application/zip'\n",
      "Ignore 'Actualité - 01 - Deep learning et  humanités numériques.zip' with type 'application/zip'\n"
     ]
    },
    {
     "name": "stdout",
     "output_type": "stream",
     "text": [
      "---\n",
      "A Document with the word machine learning.\n",
      "\n",
      "\n",
      "\n",
      "Another paragr...\n",
      "---\n",
      "Autre document sur le machine learning...\n",
      "---\n",
      "Matrice Cynefin x\n",
      "\n",
      "Machine Learning\n",
      "\n",
      "- Aller vite en product...\n",
      "---\n",
      "Deep Learning humanités numériques\n",
      "\n",
      "“les gens qui se forment...\n",
      "---\n",
      "Eli Stevens Luca Antiga Thomas Viehmann Foreword by Soumith ...\n",
      "---\n",
      "Deep Learning et humanités numériques\n",
      "\n",
      "Karim Sayadi\n",
      "\n",
      "Data Sc...\n",
      "---\n",
      "Le machine learning portable avec Go\n",
      "\n",
      "\n",
      "\n",
      "Dans cet article, je...\n",
      "---\n",
      "Deep Learning humanités numériques\n",
      "\n",
      "\n",
      "\n",
      "“Les gens qui se forme...\n",
      "---\n",
      "01\n",
      "\n",
      "R&D collective ?\n",
      "\n",
      "\n",
      "\n",
      "<PAGE BREAK>\n",
      "\n",
      "Synthèse d’une discuss...\n",
      "---\n",
      "L’i-PPR n°02\n",
      "\n",
      "\n",
      "\n",
      "Deep learning of Python\n",
      "\n",
      "V1.0 -\n",
      "\n",
      "5 Avril 201...\n"
     ]
    }
   ],
   "source": [
    "import os\n",
    "loader = GoogleDriveLoader(\n",
    "                gdrive_api_file=os.environ[\"GOOGLE_ACCOUNT_FILE\"],\n",
    "                num_results=2,\n",
    "                template=\"gdrive-query\",\n",
    "                filter=lambda search, file: \"#test\" not in file.get('description',''),\n",
    "                query='machine learning',\n",
    "                supportsAllDrives=False,\n",
    "                )\n",
    "for doc in loader.load():\n",
    "    print(\"---\")\n",
    "    print(doc.page_content.strip()[:60]+\"...\")"
   ]
  },
  {
   "cell_type": "code",
   "execution_count": null,
   "id": "3dbb5609",
   "metadata": {},
   "outputs": [],
   "source": []
  }
 ],
 "metadata": {
  "kernelspec": {
   "display_name": "Python 3 (ipykernel)",
   "language": "python",
   "name": "python3"
  },
  "language_info": {
   "codemirror_mode": {
    "name": "ipython",
    "version": 3
   },
   "file_extension": ".py",
   "mimetype": "text/x-python",
   "name": "python",
   "nbconvert_exporter": "python",
   "pygments_lexer": "ipython3",
   "version": "3.10.12"
  }
 },
 "nbformat": 4,
 "nbformat_minor": 5
}
